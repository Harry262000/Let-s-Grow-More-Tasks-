{
 "cells": [
  {
   "cell_type": "markdown",
   "id": "68801f6c",
   "metadata": {},
   "source": [
    "# Harshal Honde\n",
    "\n",
    "\n",
    "## Data Science Intern\n",
    "\n",
    "\n",
    "### Task 4 (Beginner ) :  Image to Pencil Sketch with Python"
   ]
  },
  {
   "cell_type": "markdown",
   "id": "d222347e",
   "metadata": {},
   "source": [
    "## Description:\n",
    "\n",
    "   We need to read the image in RBG format and then convert it to a grayscale image. This will turn an image into a classic black and white photo. Then the next thing to do is invert the grayscale image also called negative image, this will be our inverted grayscale image. Inversion can be used to enhance details. Then we can finally create the pencil sketch by mixing the grayscale image with the inverted blurry image. This can be done by dividing the grayscale image by the inverted blurry image. Since images are just arrays, we can easily do this programmatically using the divide function from the cv2 library in Python."
   ]
  },
  {
   "cell_type": "code",
   "execution_count": 2,
   "id": "1f54867e",
   "metadata": {},
   "outputs": [],
   "source": [
    "#import library \n",
    "import cv2"
   ]
  },
  {
   "cell_type": "code",
   "execution_count": 3,
   "id": "fcde34bd",
   "metadata": {},
   "outputs": [],
   "source": [
    "#read image \n",
    "image = cv2.imread('Harry.jpg')"
   ]
  },
  {
   "cell_type": "code",
   "execution_count": null,
   "id": "0638b5ab",
   "metadata": {},
   "outputs": [],
   "source": []
  }
 ],
 "metadata": {
  "kernelspec": {
   "display_name": "Python 3 (ipykernel)",
   "language": "python",
   "name": "python3"
  },
  "language_info": {
   "codemirror_mode": {
    "name": "ipython",
    "version": 3
   },
   "file_extension": ".py",
   "mimetype": "text/x-python",
   "name": "python",
   "nbconvert_exporter": "python",
   "pygments_lexer": "ipython3",
   "version": "3.9.7"
  }
 },
 "nbformat": 4,
 "nbformat_minor": 5
}
