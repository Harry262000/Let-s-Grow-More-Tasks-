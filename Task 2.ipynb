{
 "cells": [
  {
   "cell_type": "markdown",
   "id": "68801f6c",
   "metadata": {},
   "source": [
    "# Harshal Honde\n",
    "\n",
    "\n",
    "## Data Science Intern\n",
    "\n",
    "\n",
    "### Task 4 (Beginner ) :  Image to Pencil Sketch with Python"
   ]
  },
  {
   "cell_type": "markdown",
   "id": "d222347e",
   "metadata": {},
   "source": [
    "## Description:\n",
    "\n",
    "   We need to read the image in RBG format and then convert it to a grayscale image. This will turn an image into a classic black and white photo. Then the next thing to do is invert the grayscale image also called negative image, this will be our inverted grayscale image. Inversion can be used to enhance details. Then we can finally create the pencil sketch by mixing the grayscale image with the inverted blurry image. This can be done by dividing the grayscale image by the inverted blurry image. Since images are just arrays, we can easily do this programmatically using the divide function from the cv2 library in Python."
   ]
  },
  {
   "cell_type": "code",
   "execution_count": 5,
   "id": "1f54867e",
   "metadata": {},
   "outputs": [
    {
     "ename": "ModuleNotFoundError",
     "evalue": "No module named 'cv2'",
     "output_type": "error",
     "traceback": [
      "\u001b[1;31m---------------------------------------------------------------------------\u001b[0m",
      "\u001b[1;31mModuleNotFoundError\u001b[0m                       Traceback (most recent call last)",
      "\u001b[1;32mc:\\Users\\harshal\\Desktop\\Github\\Let-s-Grow-More-Tasks-\\Task 2.ipynb Cell 3'\u001b[0m in \u001b[0;36m<module>\u001b[1;34m\u001b[0m\n\u001b[0;32m      <a href='vscode-notebook-cell:/c%3A/Users/harshal/Desktop/Github/Let-s-Grow-More-Tasks-/Task%202.ipynb#ch0000002?line=0'>1</a>\u001b[0m \u001b[39m#import library \u001b[39;00m\n\u001b[1;32m----> <a href='vscode-notebook-cell:/c%3A/Users/harshal/Desktop/Github/Let-s-Grow-More-Tasks-/Task%202.ipynb#ch0000002?line=1'>2</a>\u001b[0m \u001b[39mimport\u001b[39;00m \u001b[39mcv2\u001b[39;00m\n\u001b[0;32m      <a href='vscode-notebook-cell:/c%3A/Users/harshal/Desktop/Github/Let-s-Grow-More-Tasks-/Task%202.ipynb#ch0000002?line=2'>3</a>\u001b[0m \u001b[39mimport\u001b[39;00m \u001b[39mmatplotlib\u001b[39;00m\u001b[39m.\u001b[39;00m\u001b[39mpyplot\u001b[39;00m \u001b[39mas\u001b[39;00m \u001b[39mplt\u001b[39;00m\n",
      "\u001b[1;31mModuleNotFoundError\u001b[0m: No module named 'cv2'"
     ]
    }
   ],
   "source": [
    "#import library \n",
    "import cv2\n",
    "import matplotlib.pyplot as plt"
   ]
  },
  {
   "cell_type": "code",
   "execution_count": null,
   "id": "fcde34bd",
   "metadata": {},
   "outputs": [],
   "source": [
    "#read image \n",
    "image = cv2.imread('Harry.jpg')"
   ]
  },
  {
   "cell_type": "code",
   "execution_count": null,
   "id": "0638b5ab",
   "metadata": {},
   "outputs": [],
   "source": [
    "#Showing image using openCV\n",
    "cv2.imshow('original image',image)\n",
    "cv2.waitKey(0)\n",
    "cv2.destroyAllWindows()"
   ]
  }
 ],
 "metadata": {
  "kernelspec": {
   "display_name": "Python 3 (ipykernel)",
   "language": "python",
   "name": "python3"
  },
  "language_info": {
   "codemirror_mode": {
    "name": "ipython",
    "version": 3
   },
   "file_extension": ".py",
   "mimetype": "text/x-python",
   "name": "python",
   "nbconvert_exporter": "python",
   "pygments_lexer": "ipython3",
   "version": "3.9.12"
  }
 },
 "nbformat": 4,
 "nbformat_minor": 5
}
